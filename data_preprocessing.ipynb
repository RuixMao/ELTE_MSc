{
 "cells": [
  {
   "cell_type": "code",
   "execution_count": 1,
   "metadata": {},
   "outputs": [],
   "source": [
    "from kafka import KafkaProducer\n",
    "from kafka import KafkaConsumer\n",
    "from json import loads\n",
    "import json\n",
    "from time import sleep\n",
    "import pandas as pd"
   ]
  },
  {
   "cell_type": "code",
   "execution_count": 8,
   "metadata": {},
   "outputs": [],
   "source": [
    "def data_preprocessing(df):\n",
    "    preprocessed = False\n",
    "    # Since attack column is aggregation of attack_P1, attack_P2 and attack_P3, we are dropping those three columns and using only attack col as label\n",
    "    col_to_drop = ['time','attack_P1', 'attack_P2', 'attack_P3']\n",
    "    if all(column in df.columns for column in col_to_drop):\n",
    "        df = df.drop(columns=col_to_drop)\n",
    "        preprocessed = True\n",
    "    \n",
    "    return df, preprocessed"
   ]
  },
  {
   "cell_type": "code",
   "execution_count": 9,
   "metadata": {},
   "outputs": [],
   "source": [
    "def json_serializer(data):\n",
    "    return json.dumps(data).encode(\"utf-8\")"
   ]
  },
  {
   "cell_type": "code",
   "execution_count": 12,
   "metadata": {},
   "outputs": [],
   "source": [
    "class KafkaDataStreamer:\n",
    "    def __init__(self, bootstrap_servers, topic):\n",
    "        self.bootstrap_servers = bootstrap_servers\n",
    "        self.topic = topic\n",
    "        # Initialize the Kafka producer\n",
    "        self.producer = KafkaProducer(bootstrap_servers=self.bootstrap_servers, \n",
    "                                      value_serializer=json_serializer,\n",
    "                                      api_version=(0, 10, 1))\n",
    "\n",
    "    def stream_data(self, data):\n",
    "\n",
    "        message = data.to_dict()\n",
    "        self.producer.send(self.topic, value=message)"
   ]
  },
  {
   "cell_type": "code",
   "execution_count": 13,
   "metadata": {},
   "outputs": [],
   "source": [
    "topic_producer = 'hai-preprocessed-mao'\n",
    "bootstrap_servers = ['localhost:9092']"
   ]
  },
  {
   "cell_type": "code",
   "execution_count": 14,
   "metadata": {},
   "outputs": [],
   "source": [
    "class HaiConsumer:\n",
    "    def __init__(self, topic, bootstrap_servers):\n",
    "        self.topic = topic\n",
    "        self.bootstrap_servers = bootstrap_servers\n",
    "        self.consumer = KafkaConsumer(\n",
    "            self.topic,\n",
    "            bootstrap_servers=self.bootstrap_servers,\n",
    "            auto_offset_reset='earliest',\n",
    "            enable_auto_commit=True,\n",
    "            value_deserializer=lambda x: loads(x.decode('utf-8')))\n",
    "\n",
    "    def consume(self):\n",
    "        \n",
    "        streamer = KafkaDataStreamer(bootstrap_servers, topic_producer)\n",
    "        counter = 0\n",
    "        for i, message in enumerate(self.consumer):\n",
    "            message = message.value\n",
    "            # selected_columns = {key: value for key, value in message.items() if key in columns_to_scale_and_monitor}\n",
    "            df = pd.DataFrame([message])\n",
    "            df, preprocessed = data_preprocessing(df)\n",
    "\n",
    "            if not preprocessed:\n",
    "                continue\n",
    "\n",
    "            if preprocessed:\n",
    "                streamer.stream_data(df)\n",
    "                counter += 1\n",
    "\n",
    "                \n",
    "            "
   ]
  },
  {
   "cell_type": "code",
   "execution_count": 15,
   "metadata": {},
   "outputs": [],
   "source": [
    "topic = 'hai-input-mao'\n",
    "consumer = HaiConsumer(topic, bootstrap_servers)\n",
    "consumer.consume()"
   ]
  },
  {
   "cell_type": "code",
   "execution_count": null,
   "metadata": {},
   "outputs": [],
   "source": []
  }
 ],
 "metadata": {
  "kernelspec": {
   "display_name": "base",
   "language": "python",
   "name": "python3"
  },
  "language_info": {
   "codemirror_mode": {
    "name": "ipython",
    "version": 3
   },
   "file_extension": ".py",
   "mimetype": "text/x-python",
   "name": "python",
   "nbconvert_exporter": "python",
   "pygments_lexer": "ipython3",
   "version": "3.9.18"
  }
 },
 "nbformat": 4,
 "nbformat_minor": 2
}
